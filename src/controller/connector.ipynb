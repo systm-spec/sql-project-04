{
 "cells": [
  {
   "cell_type": "code",
   "id": "initial_id",
   "metadata": {
    "collapsed": true,
    "ExecuteTime": {
     "end_time": "2025-01-15T13:00:53.687665Z",
     "start_time": "2025-01-15T13:00:53.403753Z"
    }
   },
   "source": "connect",
   "outputs": [
    {
     "name": "stdout",
     "output_type": "stream",
     "text": [
      "SQLAlchemy connected!\n",
      "psycopg connected!\n"
     ]
    }
   ],
   "execution_count": 2
  },
  {
   "metadata": {
    "ExecuteTime": {
     "end_time": "2025-01-15T13:02:34.478372Z",
     "start_time": "2025-01-15T13:02:33.823834Z"
    }
   },
   "cell_type": "code",
   "source": [
    "# selection:\n",
    "sel_stmt = '''SELECT *\n",
    "FROM mock_names\n",
    "JOIN hotelgaeste\n",
    "USING (id);'''\n",
    "\n",
    "complete_df = pd.read_sql(sel_stmt, engine)\n",
    "complete_df.to_sql('meta', engine)"
   ],
   "id": "1dfcbda49639abe7",
   "outputs": [
    {
     "data": {
      "text/plain": [
       "1000"
      ]
     },
     "execution_count": 3,
     "metadata": {},
     "output_type": "execute_result"
    }
   ],
   "execution_count": 3
  }
 ],
 "metadata": {
  "kernelspec": {
   "display_name": "Python 3",
   "language": "python",
   "name": "python3"
  },
  "language_info": {
   "codemirror_mode": {
    "name": "ipython",
    "version": 2
   },
   "file_extension": ".py",
   "mimetype": "text/x-python",
   "name": "python",
   "nbconvert_exporter": "python",
   "pygments_lexer": "ipython2",
   "version": "2.7.6"
  }
 },
 "nbformat": 4,
 "nbformat_minor": 5
}
